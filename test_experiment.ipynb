{
 "cells": [
  {
   "cell_type": "code",
   "execution_count": 4,
   "id": "7937d770",
   "metadata": {},
   "outputs": [
    {
     "name": "stdout",
     "output_type": "stream",
     "text": [
      "Model is running on: GPU\n"
     ]
    }
   ],
   "source": [
    "import torch\n",
    "print(f\"Model is running on: {torch.cuda.is_available() and 'GPU' or 'CPU'}\")"
   ]
  },
  {
   "cell_type": "code",
   "execution_count": 3,
   "id": "cb21fde2",
   "metadata": {},
   "outputs": [
    {
     "name": "stderr",
     "output_type": "stream",
     "text": [
      "C:\\Users\\Gabriel\\AppData\\Local\\Packages\\PythonSoftwareFoundation.Python.3.12_qbz5n2kfra8p0\\LocalCache\\local-packages\\Python312\\site-packages\\tqdm\\auto.py:21: TqdmWarning: IProgress not found. Please update jupyter and ipywidgets. See https://ipywidgets.readthedocs.io/en/stable/user_install.html\n",
      "  from .autonotebook import tqdm as notebook_tqdm\n"
     ]
    },
    {
     "name": "stdout",
     "output_type": "stream",
     "text": [
      "Starting optimized grid search with 2 experiments\n",
      "Memory optimization: Datasets generated and discarded immediately\n",
      "Results will be saved in: test_grid_search\n"
     ]
    },
    {
     "name": "stderr",
     "output_type": "stream",
     "text": [
      "Grid Search Progress:   0%|          | 0/2 [00:00<?, ?it/s]"
     ]
    },
    {
     "name": "stdout",
     "output_type": "stream",
     "text": [
      "\n",
      "[1/2] Methods: enumeration\n",
      "   Augment %: 0.1\n",
      "   Generating augmented dataset...\n"
     ]
    },
    {
     "name": "stderr",
     "output_type": "stream",
     "text": [
      "🧪 Augmenting SMILES: 100%|██████████| 13388/13388 [00:19<00:00, 700.98mol/s]\n"
     ]
    },
    {
     "name": "stdout",
     "output_type": "stream",
     "text": [
      "Generated new 13382 SMILES\n",
      "   Dataset generated: 147267 samples\n",
      "   Training neural network...\n",
      "Model is running on: GPU\n",
      "Epoch 1/5 — Train Loss: 0.0025 — Val Loss: 0.0013\n",
      "Epoch 2/5 — Train Loss: 0.0014 — Val Loss: 0.0011\n",
      "Epoch 3/5 — Train Loss: 0.0012 — Val Loss: 0.0012\n",
      "Epoch 4/5 — Train Loss: 0.0011 — Val Loss: 0.0009\n",
      "Epoch 5/5 — Train Loss: 0.0010 — Val Loss: 0.0009\n"
     ]
    },
    {
     "name": "stderr",
     "output_type": "stream",
     "text": [
      "Grid Search Progress:  50%|█████     | 1/2 [02:06<02:06, 126.58s/it]"
     ]
    },
    {
     "name": "stdout",
     "output_type": "stream",
     "text": [
      "   Success! Test R²: 0.784, Loss: 0.0010\n",
      "\n",
      "[2/2] Methods: enumeration\n",
      "   Augment %: 0.3\n",
      "   Generating augmented dataset...\n"
     ]
    },
    {
     "name": "stderr",
     "output_type": "stream",
     "text": [
      "🧪 Augmenting SMILES: 100%|██████████| 40165/40165 [00:52<00:00, 761.06mol/s]\n"
     ]
    },
    {
     "name": "stdout",
     "output_type": "stream",
     "text": [
      "Generated new 40045 SMILES\n",
      "   Dataset generated: 173930 samples\n",
      "   Training neural network...\n",
      "Model is running on: GPU\n",
      "Epoch 1/5 — Train Loss: 0.0025 — Val Loss: 0.0017\n",
      "Epoch 2/5 — Train Loss: 0.0015 — Val Loss: 0.0012\n",
      "Epoch 3/5 — Train Loss: 0.0012 — Val Loss: 0.0011\n",
      "Epoch 4/5 — Train Loss: 0.0011 — Val Loss: 0.0010\n",
      "Epoch 5/5 — Train Loss: 0.0010 — Val Loss: 0.0010\n"
     ]
    },
    {
     "name": "stderr",
     "output_type": "stream",
     "text": [
      "Grid Search Progress: 100%|██████████| 2/2 [05:08<00:00, 154.39s/it]"
     ]
    },
    {
     "name": "stdout",
     "output_type": "stream",
     "text": [
      "   Success! Test R²: 0.776, Loss: 0.0010\n",
      "\n",
      " Grid Search completed!\n",
      "✅ Successful experiments: 2/2\n",
      "📊 Success rate: 100.0%\n",
      "📈 Analysis files created:\n",
      "   Main results: test_grid_search\\paper_analysis_results.csv\n",
      "   Top 10: test_grid_search\\top_10_experiments.csv\n",
      "\n",
      "🏆 BEST EXPERIMENT:\n",
      "   ID: 0\n",
      "   Methods: enumeration\n",
      "   Test Loss: 0.0010\n",
      "   Test R²: 0.784\n",
      "   Augment %: 0.1\n"
     ]
    },
    {
     "name": "stderr",
     "output_type": "stream",
     "text": [
      "\n"
     ]
    }
   ],
   "source": [
    "from gridsearch import GridSearch\n",
    "\n",
    "test_config = {\n",
    "            'epochs': 5,\n",
    "            'batch_size': 128, \n",
    "            'lr': 0.00038419788129315696,\n",
    "            'dropout': 0.3520475751955372,\n",
    "            'weight_decay': 1.0528482325186746e-06,\n",
    "            'num_layers': 2,\n",
    "            'hidden_dim': 256,\n",
    "            'embedding_dim': 64\n",
    "        }\n",
    "\n",
    "grid = GridSearch(\n",
    "    dataset_path='QM9.csv',\n",
    "    output_dir='test_grid_search',\n",
    "    model_config=test_config\n",
    ")\n",
    "\n",
    "results = grid.run_grid_search()"
   ]
  }
 ],
 "metadata": {
  "kernelspec": {
   "display_name": "Python 3",
   "language": "python",
   "name": "python3"
  },
  "language_info": {
   "codemirror_mode": {
    "name": "ipython",
    "version": 3
   },
   "file_extension": ".py",
   "mimetype": "text/x-python",
   "name": "python",
   "nbconvert_exporter": "python",
   "pygments_lexer": "ipython3",
   "version": "3.12.10"
  }
 },
 "nbformat": 4,
 "nbformat_minor": 5
}
