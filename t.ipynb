{
 "cells": [
  {
   "cell_type": "code",
   "execution_count": 7,
   "id": "1010b6a4",
   "metadata": {},
   "outputs": [],
   "source": [
    "import torch\n",
    "\n",
    "device = torch.device('cuda' if torch.cuda.is_available() else 'cpu')\n",
    "\n",
    "from lstm_regressor import LSTM, LSTMTrainer\n",
    "from preprocessing import BasicSmilesTokenizer, PreProcessing\n",
    "import pandas as pd\n",
    "import numpy as np\n",
    "\n",
    "model_config = {\n",
    "            'epochs': 60,\n",
    "            'batch_size': 32, \n",
    "            'lr': 0.00038419788129315696,\n",
    "            'dropout': 0.3520475751955372,\n",
    "            'weight_decay': 1.0528482325186746e-06,\n",
    "            'num_layers': 2,\n",
    "            'hidden_dim': 256,\n",
    "            'embedding_dim': 16\n",
    "        }"
   ]
  },
  {
   "cell_type": "code",
   "execution_count": 8,
   "id": "17e47512",
   "metadata": {},
   "outputs": [
    {
     "data": {
      "text/html": [
       "<div>\n",
       "<style scoped>\n",
       "    .dataframe tbody tr th:only-of-type {\n",
       "        vertical-align: middle;\n",
       "    }\n",
       "\n",
       "    .dataframe tbody tr th {\n",
       "        vertical-align: top;\n",
       "    }\n",
       "\n",
       "    .dataframe thead th {\n",
       "        text-align: right;\n",
       "    }\n",
       "</style>\n",
       "<table border=\"1\" class=\"dataframe\">\n",
       "  <thead>\n",
       "    <tr style=\"text-align: right;\">\n",
       "      <th></th>\n",
       "      <th>SMILES_1</th>\n",
       "      <th>SMILES_2</th>\n",
       "      <th>INCHI_1</th>\n",
       "      <th>INCHI_2</th>\n",
       "      <th>Property_0</th>\n",
       "    </tr>\n",
       "  </thead>\n",
       "  <tbody>\n",
       "    <tr>\n",
       "      <th>0</th>\n",
       "      <td>OC1COC(=N)C1=O</td>\n",
       "      <td>O[C@H]1CO[C]([NH])C1=O</td>\n",
       "      <td>InChI=1S/C4H5NO3/c5-4-3(7)2(6)1-8-4/h2,5-6H,1H2</td>\n",
       "      <td>InChI=1S/C4H5NO3/c5-4-3(7)2(6)1-8-4/h2,5-6H,1H...</td>\n",
       "      <td>3.49649</td>\n",
       "    </tr>\n",
       "    <tr>\n",
       "      <th>1</th>\n",
       "      <td>CN(C)C(=O)C=O</td>\n",
       "      <td>CN(C)C(=O)C=O</td>\n",
       "      <td>InChI=1S/C4H7NO2/c1-5(2)4(7)3-6/h3H,1-2H3</td>\n",
       "      <td>InChI=1S/C4H7NO2/c1-5(2)4(7)3-6/h3H,1-2H3</td>\n",
       "      <td>3.92544</td>\n",
       "    </tr>\n",
       "    <tr>\n",
       "      <th>2</th>\n",
       "      <td>C1C2CC3N=COCC123</td>\n",
       "      <td>C1[C@H]2C[C@@H]3N=COC[C@]123</td>\n",
       "      <td>InChI=1S/C7H9NO/c1-5-2-7(5)3-9-4-8-6(1)7/h4-6H...</td>\n",
       "      <td>InChI=1S/C7H9NO/c1-5-2-7(5)3-9-4-8-6(1)7/h4-6H...</td>\n",
       "      <td>3.02103</td>\n",
       "    </tr>\n",
       "    <tr>\n",
       "      <th>3</th>\n",
       "      <td>OC1C2OC3CC2C13O</td>\n",
       "      <td>O[C@H]1[C@H]2O[C@@H]3C[C@H]2[C@]13O</td>\n",
       "      <td>InChI=1S/C6H8O3/c7-5-4-2-1-3(9-4)6(2,5)8/h2-5,...</td>\n",
       "      <td>InChI=1S/C6H8O3/c7-5-4-2-1-3(9-4)6(2,5)8/h2-5,...</td>\n",
       "      <td>2.52006</td>\n",
       "    </tr>\n",
       "    <tr>\n",
       "      <th>4</th>\n",
       "      <td>OC1C2C(=N)OCC12O</td>\n",
       "      <td>O[C@H]1[C@H]2[C]([NH])OC[C@@]12O</td>\n",
       "      <td>InChI=1S/C5H7NO3/c6-4-2-3(7)5(2,8)1-9-4/h2-3,6...</td>\n",
       "      <td>InChI=1S/C5H7NO3/c6-4-2-3(7)5(2,8)1-9-4/h2-3,6...</td>\n",
       "      <td>2.48587</td>\n",
       "    </tr>\n",
       "  </tbody>\n",
       "</table>\n",
       "</div>"
      ],
      "text/plain": [
       "           SMILES_1                             SMILES_2  \\\n",
       "0    OC1COC(=N)C1=O               O[C@H]1CO[C]([NH])C1=O   \n",
       "1     CN(C)C(=O)C=O                        CN(C)C(=O)C=O   \n",
       "2  C1C2CC3N=COCC123         C1[C@H]2C[C@@H]3N=COC[C@]123   \n",
       "3   OC1C2OC3CC2C13O  O[C@H]1[C@H]2O[C@@H]3C[C@H]2[C@]13O   \n",
       "4  OC1C2C(=N)OCC12O     O[C@H]1[C@H]2[C]([NH])OC[C@@]12O   \n",
       "\n",
       "                                             INCHI_1  \\\n",
       "0    InChI=1S/C4H5NO3/c5-4-3(7)2(6)1-8-4/h2,5-6H,1H2   \n",
       "1          InChI=1S/C4H7NO2/c1-5(2)4(7)3-6/h3H,1-2H3   \n",
       "2  InChI=1S/C7H9NO/c1-5-2-7(5)3-9-4-8-6(1)7/h4-6H...   \n",
       "3  InChI=1S/C6H8O3/c7-5-4-2-1-3(9-4)6(2,5)8/h2-5,...   \n",
       "4  InChI=1S/C5H7NO3/c6-4-2-3(7)5(2,8)1-9-4/h2-3,6...   \n",
       "\n",
       "                                             INCHI_2  Property_0  \n",
       "0  InChI=1S/C4H5NO3/c5-4-3(7)2(6)1-8-4/h2,5-6H,1H...     3.49649  \n",
       "1          InChI=1S/C4H7NO2/c1-5(2)4(7)3-6/h3H,1-2H3     3.92544  \n",
       "2  InChI=1S/C7H9NO/c1-5-2-7(5)3-9-4-8-6(1)7/h4-6H...     3.02103  \n",
       "3  InChI=1S/C6H8O3/c7-5-4-2-1-3(9-4)6(2,5)8/h2-5,...     2.52006  \n",
       "4  InChI=1S/C5H7NO3/c6-4-2-3(7)5(2,8)1-9-4/h2-3,6...     2.48587  "
      ]
     },
     "execution_count": 8,
     "metadata": {},
     "output_type": "execute_result"
    }
   ],
   "source": [
    "df = pd.read_csv('QM9.csv', index_col=0)\n",
    "df.head()"
   ]
  },
  {
   "cell_type": "code",
   "execution_count": 9,
   "id": "0d352f6c",
   "metadata": {},
   "outputs": [],
   "source": [
    "vocab = [\n",
    "            '#', '(', ')', '-', '/', '1', '2', '3', '4', '5', '6', '=', 'Br', 'C', 'Cl',\n",
    "            'F', 'I', 'In', 'N', 'O', 'P', 'S', '[17O]', '[AlH-]', '[AlH2-]', '[AlH3-]',\n",
    "            '[AsH3-]', '[BH-]', '[BH2-]', '[BH3-]', '[C-]', '[C@@H]', '[C@@]', '[C@H]',\n",
    "            '[C@]', '[CH-]', '[CH2-]', '[CH2]', '[CH]', '[C]', '[GaH-]', '[GaH2-]', '[GaH3-]',\n",
    "            '[InH-]', '[InH2-]', '[InH3-]', '[N+]', '[N-]', '[N@+]', '[N@@+]', '[N@@]', '[N@]',\n",
    "            '[NH+]', '[NH-]', '[NH2+]', '[NH3+]', '[NH]', '[N]', '[NbH3-]', '[O+]', '[O-]', '[O]',\n",
    "            '[PH+]', '[PH3-]', '[PH4-]', '[S+]', '[SbH3-]', '[Si]', '[TaH3-]', '[c-]', '[cH-]',\n",
    "            '[n+]', '[n-]', '[nH+]', '[nH]', '[o+]', '\\\\', 'c', 'n', 'o', ''\n",
    "        ]\n",
    "\n",
    "prep = PreProcessing(vocab=vocab)\n",
    "data_info = prep.prepare_data_from_df(df, smiles_col='SMILES_1', target_col='Property_0')"
   ]
  },
  {
   "cell_type": "code",
   "execution_count": 10,
   "id": "f1813f75",
   "metadata": {},
   "outputs": [
    {
     "data": {
      "text/plain": [
       "(tensor([[13, 13,  5,  6, 19, 13, 13, 13,  5, 13, 13,  6, 19, 80, 80, 80, 80, 80],\n",
       "         [18, 13,  5, 11, 13, 13,  1, 19,  2, 11, 18, 18,  5, 80, 80, 80, 80, 80],\n",
       "         [19, 11, 13, 18,  5, 13, 13,  5, 13,  5, 13, 19, 13,  5, 80, 80, 80, 80],\n",
       "         [13, 13, 13,  1, 13, 13,  2, 13, 19, 80, 80, 80, 80, 80, 80, 80, 80, 80],\n",
       "         [18, 13,  5, 11, 13,  6, 13, 19, 13, 13,  6, 11, 13, 18,  5, 80, 80, 80],\n",
       "         [13, 13, 13,  5,  6, 13,  7, 13, 13,  5, 13,  1, 11, 19,  2, 13,  6,  7],\n",
       "         [13, 13, 13,  5,  6, 18, 13,  5, 13,  1, 19,  2, 13,  6, 19, 80, 80, 80],\n",
       "         [13, 13,  1, 11, 19,  2, 13,  5,  1, 13, 19,  2, 13, 13, 13,  5, 80, 80],\n",
       "         [13, 13,  5, 11, 18, 13,  1, 11, 19,  2, 18, 11, 13, 13, 11, 13,  5, 80],\n",
       "         [19, 13,  5,  6, 13, 13,  1, 13,  5,  2, 13,  6, 13, 11, 19, 80, 80, 80],\n",
       "         [19, 13,  5,  6, 13, 18, 13,  5, 13, 11, 13, 13,  6, 11, 19, 80, 80, 80],\n",
       "         [19, 11, 13,  5, 18, 13, 13, 18,  5, 13,  5, 13, 13,  5, 80, 80, 80, 80],\n",
       "         [19, 11, 13, 18, 13, 13, 19, 13, 13,  0, 13, 80, 80, 80, 80, 80, 80, 80],\n",
       "         [13, 13,  5,  6, 13, 13,  7,  1, 13, 13, 13,  5,  7,  2, 13, 13,  6, 80],\n",
       "         [13, 13, 13,  5, 11, 13,  1, 13,  2, 13, 19, 13,  5, 11, 18, 80, 80, 80],\n",
       "         [13, 13,  5, 13, 13,  6, 13, 13,  6,  1, 19,  5,  2, 13,  0, 18, 80, 80],\n",
       "         [13, 13,  1, 13,  2,  1, 13,  2, 13, 13,  5, 13, 13, 13,  5, 80, 80, 80],\n",
       "         [13, 13,  1, 18,  2,  1, 13,  0, 18,  2, 13,  5, 13, 19, 13,  5, 80, 80],\n",
       "         [13, 13,  1, 18,  5, 13, 13,  5,  2, 13,  1, 18,  2, 11, 19, 80, 80, 80],\n",
       "         [13, 13,  5, 13, 13,  6, 18,  5, 13,  6,  1, 13,  2, 13, 11, 19, 80, 80],\n",
       "         [19, 11, 13, 13,  5, 13, 13, 13, 13, 13, 19,  5, 80, 80, 80, 80, 80, 80],\n",
       "         [13,  5, 13,  6, 19, 13,  7, 13, 13, 13,  6, 18,  5, 13,  7, 80, 80, 80],\n",
       "         [13, 13,  5, 11, 13, 18, 13,  1, 11, 18,  2, 13,  1, 11, 19,  2, 18,  5],\n",
       "         [13, 13, 13,  5, 13,  1, 13,  2, 18,  5, 13,  1, 13,  2, 11, 19, 80, 80],\n",
       "         [19, 13,  5, 11, 13, 19, 13,  1, 11, 19,  2, 13, 11, 13,  5, 80, 80, 80],\n",
       "         [13, 13,  5, 13,  6, 19, 13,  5, 13,  6, 13, 13,  0, 13, 80, 80, 80, 80],\n",
       "         [13, 19, 13,  5, 11, 18, 13,  1, 13,  2,  1, 13,  2, 13, 18,  5, 80, 80],\n",
       "         [19, 11, 13, 13,  5,  6, 13, 13,  1, 18,  5,  2, 13,  6, 11, 19, 80, 80],\n",
       "         [19, 13,  5, 13,  6, 19, 13,  5,  1, 13,  0, 18,  2, 13,  6, 19, 80, 80],\n",
       "         [13, 13,  0, 13, 13,  0, 13, 13,  5, 13, 13,  5, 80, 80, 80, 80, 80, 80],\n",
       "         [13, 13,  5, 19, 13,  1, 13, 11, 19,  2, 13,  5,  5, 13, 19,  5, 80, 80],\n",
       "         [19, 11, 13, 13,  0, 13, 13,  5, 19, 13,  5, 13,  0, 18, 80, 80, 80, 80]]),\n",
       " tensor([13, 13, 14,  9, 15, 18, 15, 16, 17, 15, 15, 14, 11, 17, 15, 16, 15, 16,\n",
       "         15, 16, 12, 15, 18, 16, 15, 14, 16, 16, 16, 12, 16, 14]),\n",
       " tensor([0.1022, 0.3857, 0.1310, 0.1149, 0.1601, 0.1195, 0.1494, 0.0985, 0.1294,\n",
       "         0.1735, 0.1232, 0.1504, 0.2365, 0.1437, 0.0971, 0.1566, 0.1552, 0.1306,\n",
       "         0.1368, 0.1884, 0.1409, 0.1367, 0.1551, 0.1006, 0.2843, 0.1921, 0.1476,\n",
       "         0.1705, 0.1020, 0.6299, 0.1075, 0.1610]))"
      ]
     },
     "execution_count": 10,
     "metadata": {},
     "output_type": "execute_result"
    }
   ],
   "source": [
    "next(iter(data_info['train_loader']))"
   ]
  },
  {
   "cell_type": "code",
   "execution_count": 11,
   "id": "6bb483ab",
   "metadata": {},
   "outputs": [],
   "source": [
    "model = LSTM(\n",
    "                vocab_size=data_info['vocab_size'],\n",
    "                embedding_dim=model_config['embedding_dim'],\n",
    "                hidden_dim=model_config['hidden_dim'],\n",
    "                num_layers=model_config['num_layers'],\n",
    "                padding_idx=data_info['padding_idx'],\n",
    "                dropout=model_config['dropout']\n",
    "            )"
   ]
  },
  {
   "cell_type": "code",
   "execution_count": 12,
   "id": "cded9cfa",
   "metadata": {},
   "outputs": [
    {
     "name": "stdout",
     "output_type": "stream",
     "text": [
      "Model is running on: GPU\n",
      "Epoch 1/60 — Train Loss: 5.5592 — Val Loss: 1.8263\n",
      "Epoch 2/60 — Train Loss: 3.3867 — Val Loss: 1.3736\n",
      "Epoch 3/60 — Train Loss: 2.7250 — Val Loss: 1.1560\n",
      "Epoch 4/60 — Train Loss: 2.4167 — Val Loss: 1.0871\n",
      "Epoch 5/60 — Train Loss: 2.1916 — Val Loss: 0.9740\n",
      "Epoch 6/60 — Train Loss: 2.0759 — Val Loss: 1.0046\n",
      "Epoch 7/60 — Train Loss: 1.9537 — Val Loss: 1.0708\n",
      "Epoch 8/60 — Train Loss: 1.8553 — Val Loss: 0.8150\n",
      "Epoch 9/60 — Train Loss: 1.7060 — Val Loss: 0.8280\n",
      "Epoch 10/60 — Train Loss: 1.6599 — Val Loss: 0.7547\n",
      "Epoch 11/60 — Train Loss: 1.5493 — Val Loss: 0.7220\n",
      "Epoch 12/60 — Train Loss: 1.5079 — Val Loss: 0.7480\n",
      "Epoch 13/60 — Train Loss: 1.4567 — Val Loss: 0.7308\n",
      "Epoch 14/60 — Train Loss: 1.4069 — Val Loss: 0.8893\n",
      "Epoch 15/60 — Train Loss: 1.3408 — Val Loss: 0.6741\n",
      "Epoch 16/60 — Train Loss: 1.2882 — Val Loss: 0.7030\n",
      "Epoch 17/60 — Train Loss: 1.2442 — Val Loss: 0.7745\n",
      "Epoch 18/60 — Train Loss: 1.2341 — Val Loss: 0.6069\n",
      "Epoch 19/60 — Train Loss: 1.1926 — Val Loss: 0.5878\n",
      "Epoch 20/60 — Train Loss: 1.1761 — Val Loss: 0.5693\n",
      "Epoch 21/60 — Train Loss: 1.1255 — Val Loss: 0.5812\n",
      "Epoch 22/60 — Train Loss: 1.0988 — Val Loss: 0.5964\n",
      "Epoch 23/60 — Train Loss: 1.0883 — Val Loss: 0.5595\n",
      "Epoch 24/60 — Train Loss: 1.0857 — Val Loss: 0.5415\n",
      "Epoch 25/60 — Train Loss: 1.0567 — Val Loss: 0.5677\n",
      "Epoch 26/60 — Train Loss: 1.0440 — Val Loss: 0.5946\n",
      "Epoch 27/60 — Train Loss: 1.0091 — Val Loss: 0.5788\n",
      "Epoch 28/60 — Train Loss: 1.0076 — Val Loss: 0.5650\n",
      "Epoch 29/60 — Train Loss: 1.0058 — Val Loss: 0.5581\n",
      "Epoch 30/60 — Train Loss: 0.9885 — Val Loss: 0.5447\n",
      "Epoch 31/60 — Train Loss: 0.9856 — Val Loss: 0.5428\n",
      "Epoch 32/60 — Train Loss: 0.9585 — Val Loss: 0.5181\n",
      "Epoch 33/60 — Train Loss: 0.9509 — Val Loss: 0.5500\n",
      "Epoch 34/60 — Train Loss: 0.9480 — Val Loss: 0.5029\n",
      "Epoch 35/60 — Train Loss: 0.9269 — Val Loss: 0.5040\n",
      "Epoch 36/60 — Train Loss: 0.9205 — Val Loss: 0.5099\n",
      "Epoch 37/60 — Train Loss: 0.9092 — Val Loss: 0.5014\n",
      "Epoch 38/60 — Train Loss: 0.9146 — Val Loss: 0.5029\n",
      "Epoch 39/60 — Train Loss: 0.9084 — Val Loss: 0.5200\n",
      "Epoch 40/60 — Train Loss: 0.8903 — Val Loss: 0.4990\n",
      "Epoch 41/60 — Train Loss: 0.8877 — Val Loss: 0.4896\n",
      "Epoch 42/60 — Train Loss: 0.9055 — Val Loss: 0.5816\n",
      "Epoch 43/60 — Train Loss: 0.9155 — Val Loss: 0.5147\n",
      "Epoch 44/60 — Train Loss: 0.8688 — Val Loss: 0.5206\n",
      "Epoch 45/60 — Train Loss: 0.8827 — Val Loss: 0.4918\n",
      "Epoch 46/60 — Train Loss: 0.8535 — Val Loss: 0.5302\n",
      "Epoch 47/60 — Train Loss: 0.8497 — Val Loss: 0.5161\n",
      "Epoch 48/60 — Train Loss: 0.8682 — Val Loss: 0.5053\n",
      "Epoch 49/60 — Train Loss: 0.8466 — Val Loss: 0.4729\n",
      "Epoch 50/60 — Train Loss: 0.8418 — Val Loss: 0.4695\n",
      "Epoch 51/60 — Train Loss: 0.8647 — Val Loss: 0.4593\n",
      "Epoch 52/60 — Train Loss: 0.8385 — Val Loss: 0.4984\n",
      "Epoch 53/60 — Train Loss: 0.8390 — Val Loss: 0.4632\n",
      "Epoch 54/60 — Train Loss: 0.8495 — Val Loss: 0.4706\n",
      "Epoch 55/60 — Train Loss: 0.8351 — Val Loss: 0.4572\n",
      "Epoch 56/60 — Train Loss: 0.8092 — Val Loss: 0.4676\n",
      "Epoch 57/60 — Train Loss: 0.8142 — Val Loss: 0.4841\n",
      "Epoch 58/60 — Train Loss: 0.8164 — Val Loss: 0.4854\n",
      "Epoch 59/60 — Train Loss: 0.8100 — Val Loss: 0.4989\n",
      "Epoch 60/60 — Train Loss: 0.8008 — Val Loss: 0.5062\n"
     ]
    }
   ],
   "source": [
    "trainer = LSTMTrainer(model=model)\n",
    "criterion = torch.nn.MSELoss(reduction='mean')\n",
    "optimizer = torch.optim.Adam(\n",
    "                model.parameters(),\n",
    "                lr=model_config['lr'],\n",
    "                weight_decay=model_config['weight_decay']\n",
    "            )\n",
    "\n",
    "train_losses, val_losses = trainer.train_model(\n",
    "                train_loader=data_info['train_loader'],\n",
    "                val_loader=data_info['val_loader'],\n",
    "                num_epochs=model_config['epochs'],\n",
    "                criterion=criterion,\n",
    "                optimizer=optimizer\n",
    "            )\n",
    "\n",
    "eval_results = trainer.evaluate_model(\n",
    "                test_dataloader=data_info['test_loader'],\n",
    "                criterion=criterion,\n",
    "                scaler=data_info['scaler']\n",
    "            )"
   ]
  },
  {
   "cell_type": "code",
   "execution_count": 13,
   "id": "78729c09",
   "metadata": {},
   "outputs": [
    {
     "data": {
      "image/png": "[encoded data removed]",
      "text/plain": [
       "<Figure size 640x480 with 1 Axes>"
      ]
     },
     "metadata": {},
     "output_type": "display_data"
    }
   ],
   "source": [
    "import matplotlib.pyplot as plt\n",
    "from sklearn.metrics import r2_score\n",
    "\n",
    "y_true = eval_results['y_true']\n",
    "y_pred = eval_results['y_pred']\n",
    "\n",
    "r2 = r2_score(y_true, y_pred)\n",
    "\n",
    "plt.plot([min(y_true), max(y_true)], [min(y_true), max(y_true)], 'r--', label='Real')\n",
    "plt.scatter(y_true, y_pred, alpha=0.7)\n",
    "plt.xlabel('y (real)')\n",
    "plt.ylabel('y (predito)')\n",
    "plt.title(f\"R² = {r2}\")\n",
    "plt.legend()\n",
    "plt.show()"
   ]
  },
  {
   "cell_type": "code",
   "execution_count": 14,
   "id": "bd8a6a02",
   "metadata": {},
   "outputs": [
    {
     "data": {
      "text/plain": [
       "array([3.29185  , 2.08876  , 2.53844  , ..., 3.9391398, 4.21485  ,\n",
       "       3.1447299], dtype=float32)"
      ]
     },
     "execution_count": 14,
     "metadata": {},
     "output_type": "execute_result"
    }
   ],
   "source": [
    "y_true"
   ]
  },
  {
   "cell_type": "code",
   "execution_count": 15,
   "id": "c3c56474",
   "metadata": {},
   "outputs": [
    {
     "data": {
      "text/plain": [
       "array([3.3932009, 2.1977086, 2.4623823, ..., 4.210877 , 4.182721 ,\n",
       "       3.1446617], dtype=float32)"
      ]
     },
     "execution_count": 15,
     "metadata": {},
     "output_type": "execute_result"
    }
   ],
   "source": [
    "y_pred"
   ]
  },
  {
   "cell_type": "code",
   "execution_count": 16,
   "id": "3fd40d6b",
   "metadata": {},
   "outputs": [
    {
     "name": "stdout",
     "output_type": "stream",
     "text": [
      "Erro de teste:  0.17391707003116608\n"
     ]
    }
   ],
   "source": [
    "# Erro de teste\n",
    "criterion = torch.nn.MSELoss(reduction='mean')\n",
    "\n",
    "print(\"Erro de teste: \", criterion(torch.tensor(y_true), torch.tensor(y_pred)).item())"
   ]
  },
  {
   "cell_type": "code",
   "execution_count": 17,
   "id": "a7fa4527",
   "metadata": {},
   "outputs": [
    {
     "name": "stdout",
     "output_type": "stream",
     "text": [
      "MSE real: 0.17391707\n",
      "MAE real: 0.27029294\n"
     ]
    }
   ],
   "source": [
    "from sklearn.metrics import mean_squared_error, mean_absolute_error\n",
    "print(\"MSE real:\", mean_squared_error(y_true, y_pred))\n",
    "print(\"MAE real:\", mean_absolute_error(y_true, y_pred))"
   ]
  }
 ],
 "metadata": {
  "kernelspec": {
   "display_name": "Python 3",
   "language": "python",
   "name": "python3"
  },
  "language_info": {
   "codemirror_mode": {
    "name": "ipython",
    "version": 3
   },
   "file_extension": ".py",
   "mimetype": "text/x-python",
   "name": "python",
   "nbconvert_exporter": "python",
   "pygments_lexer": "ipython3",
   "version": "3.12.10"
  }
 },
 "nbformat": 4,
 "nbformat_minor": 5
}
